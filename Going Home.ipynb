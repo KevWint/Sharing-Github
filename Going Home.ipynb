{
 "cells": [
  {
   "cell_type": "markdown",
   "metadata": {},
   "source": [
    "Going Home is meant to be a simple story generator. \n",
    "You, the reader, are our protagonist, a child who has gone to an event or function with your mother. You have already spent 3 hours at this event and you are pooped! You would like to go home, but you did not drive over here. You are at the mercy of your mother's whims. How many detours will she make before you are able to go home?! Come find out!\n"
   ]
  },
  {
   "cell_type": "code",
   "execution_count": 77,
   "metadata": {},
   "outputs": [
    {
     "name": "stdout",
     "output_type": "stream",
     "text": [
      "You have already spent 3 hours at an event with your mother and you are pooped! You would like to go home.\n",
      "You have asked to go home. See how many things your mother does before you can leave.\n",
      "\n",
      "['The DJ was playing her favorite songs!', 'She collected the containers she brought to the function.', 'She had to say goodbye to each and every person at the party.', 'She collected the chairs you brought to the function.', 'She helped clean up.', 'She made a to-go plate for your dad.', 'She spoke to a friend.', 'She started watching videos from her friend group on Whatsapp.', 'Her favorite dessert just came out!', 'She was walked to the car, but forgot something at the function.']\n",
      "\n",
      "She needs to use the restroom at home.\n",
      "Cheer up. You have lunch and dinner for the next 3 days! You're not sure why mom is super excited about this yet, but one day, you will.\n",
      "You can go home now!\n"
     ]
    }
   ],
   "source": [
    "\n",
    "#reasons_mom_stays is a collection of all the POTENTIAL events that keep mom from heading home.\n",
    "reasons_mom_stays = ['She spoke to a friend.', 'She helped clean up.', 'She packed a to-go plate.', \n",
    "                     'She made a to-go plate for your dad.', 'She collected the chairs you brought to the function.', \n",
    "                     'She collected the containers she brought to the function.', 'She was walked to the car, but forgot something at the function.',\n",
    "                    'The DJ was playing her favorite songs!', 'Her favorite dessert just came out!', 'She had to say goodbye to each and every person at the party.',\n",
    "                    'She started watching videos from her friend group on Whatsapp.']\n",
    "\n",
    "#we_can_go_home is a collection of all the potential reasons the story generator will come to a close. \n",
    "we_can_go_home = ['She needs to use the restroom at home.', 'Her favorite show is coming on TV and she has to watch it live.',\n",
    "                 'She spotted somebody she does not like and would rather go home.', 'It is getting dark outside.', 'She is tired.']\n",
    "\n",
    "#story_ending_phrases are a collection of quips I would like to end the story generator with\n",
    "#I imagine using the choice() function to select just one of these options.\n",
    "story_ending_phrases = ['Ya hate to see it.', 'You tell yourself that when you turn 18 you will never go to these functions again...If only you knew.',\n",
    "                       'Cheer up. You have lunch and dinner for the next 3 days! You\\'re not sure why mom is super excited about this yet, but one day, you will.',\n",
    "                       'FINALLY!']\n",
    "\n",
    "\n",
    "\n",
    "\n",
    "def story_time():\n",
    "    \"\"\"story_time() takes no parameters. \n",
    "    It will set the intro to the story. \n",
    "    It will randomly generate all the reasons why you have to stay at this party.\n",
    "    It will randomly select a reason you finally go home and randomly end the story with words of wisdom.\n",
    "    \"\"\"\n",
    "    \n",
    "    print(\"You have already spent 3 hours at an event with your mother and you are pooped! You would like to go home.\\nYou have asked to go home. See how many things your mother does before you can leave.\")\n",
    "    print(\"\")\n",
    "    print(random.sample(reasons_mom_stays, k = random.choice(range(1,len(reasons_mom_stays)))))\n",
    "    print(\"\")\n",
    "    print(random.choice(we_can_go_home))       \n",
    "    print(random.choice(story_ending_phrases))\n",
    "    print('You can go home now!')\n",
    "    \n",
    "story_time()"
   ]
  },
  {
   "cell_type": "code",
   "execution_count": null,
   "metadata": {},
   "outputs": [],
   "source": []
  },
  {
   "cell_type": "code",
   "execution_count": null,
   "metadata": {},
   "outputs": [],
   "source": []
  }
 ],
 "metadata": {
  "kernelspec": {
   "display_name": "Python 3",
   "language": "python",
   "name": "python3"
  },
  "language_info": {
   "codemirror_mode": {
    "name": "ipython",
    "version": 3
   },
   "file_extension": ".py",
   "mimetype": "text/x-python",
   "name": "python",
   "nbconvert_exporter": "python",
   "pygments_lexer": "ipython3",
   "version": "3.8.3"
  }
 },
 "nbformat": 4,
 "nbformat_minor": 4
}
